{
 "cells": [
  {
   "cell_type": "code",
   "execution_count": 1,
   "metadata": {},
   "outputs": [],
   "source": [
    "# It is common practice to look at the typical A/B test analysis steps and try to automate as much as possible. \n",
    "# In this challenge, you will have to analyze results from an A/B test. Also, you will be asked to design an algorithm\n",
    "# to automate some steps\n",
    "\n",
    "#### Project ####\n",
    "\n",
    "# Company XYZ is a worldwide e-commerce site with localized versions of the site.\n",
    "# Problem: Spain-based users have a much higher conversion rate than any other Spanish-speaking country. \n",
    "# Possible reason: translation. All Spanish-speaking ciuntries had the same translation of the site which was \n",
    "# written by a Spaniard. \n",
    "# Test: a test where each country would have its one translation written by a local. \n",
    "# After they run the test however, they are really surprised case the test is negative. i.e. it appears that the \n",
    "# non-localized translation was doing better.\n",
    "\n",
    "# questions: 1 confirm that the test is actually negative. that is, it apears that the old version of the site with just\n",
    "#              just one translation across Spain and LatAm performs better\n",
    "#            2 Explain why that might be happening. Are the localized translations really worse?\n",
    "#            3 If you identified what was wrong, design an algorithm that would return FALSE if the same problem is\n",
    "#              happening in the future and TRUE if everything is good and the results can be trusted."
   ]
  },
  {
   "cell_type": "code",
   "execution_count": 155,
   "metadata": {},
   "outputs": [],
   "source": [
    "import warnings \n",
    "warnings.simplefilter(\"ignore\")\n",
    "\n",
    "import numpy as np\n",
    "import pandas as pd\n",
    "import matplotlib.pyplot as plt\n",
    "import seaborn as sns\n",
    "import scipy\n",
    "import math as mt\n",
    "from scipy.stats import norm, ttest_ind\n",
    "\n",
    "%matplotlib inline"
   ]
  },
  {
   "cell_type": "code",
   "execution_count": 12,
   "metadata": {},
   "outputs": [
    {
     "data": {
      "text/html": [
       "<div>\n",
       "<style scoped>\n",
       "    .dataframe tbody tr th:only-of-type {\n",
       "        vertical-align: middle;\n",
       "    }\n",
       "\n",
       "    .dataframe tbody tr th {\n",
       "        vertical-align: top;\n",
       "    }\n",
       "\n",
       "    .dataframe thead th {\n",
       "        text-align: right;\n",
       "    }\n",
       "</style>\n",
       "<table border=\"1\" class=\"dataframe\">\n",
       "  <thead>\n",
       "    <tr style=\"text-align: right;\">\n",
       "      <th></th>\n",
       "      <th>user_id</th>\n",
       "      <th>date</th>\n",
       "      <th>source</th>\n",
       "      <th>device</th>\n",
       "      <th>browser_language</th>\n",
       "      <th>ads_channel</th>\n",
       "      <th>browser</th>\n",
       "      <th>conversion</th>\n",
       "      <th>test</th>\n",
       "    </tr>\n",
       "  </thead>\n",
       "  <tbody>\n",
       "    <tr>\n",
       "      <td>0</td>\n",
       "      <td>315281</td>\n",
       "      <td>2015-12-03</td>\n",
       "      <td>Direct</td>\n",
       "      <td>Web</td>\n",
       "      <td>ES</td>\n",
       "      <td>NaN</td>\n",
       "      <td>IE</td>\n",
       "      <td>1</td>\n",
       "      <td>0</td>\n",
       "    </tr>\n",
       "    <tr>\n",
       "      <td>1</td>\n",
       "      <td>497851</td>\n",
       "      <td>2015-12-04</td>\n",
       "      <td>Ads</td>\n",
       "      <td>Web</td>\n",
       "      <td>ES</td>\n",
       "      <td>Google</td>\n",
       "      <td>IE</td>\n",
       "      <td>0</td>\n",
       "      <td>1</td>\n",
       "    </tr>\n",
       "    <tr>\n",
       "      <td>2</td>\n",
       "      <td>848402</td>\n",
       "      <td>2015-12-04</td>\n",
       "      <td>Ads</td>\n",
       "      <td>Web</td>\n",
       "      <td>ES</td>\n",
       "      <td>Facebook</td>\n",
       "      <td>Chrome</td>\n",
       "      <td>0</td>\n",
       "      <td>0</td>\n",
       "    </tr>\n",
       "    <tr>\n",
       "      <td>3</td>\n",
       "      <td>290051</td>\n",
       "      <td>2015-12-03</td>\n",
       "      <td>Ads</td>\n",
       "      <td>Mobile</td>\n",
       "      <td>Other</td>\n",
       "      <td>Facebook</td>\n",
       "      <td>Android_App</td>\n",
       "      <td>0</td>\n",
       "      <td>1</td>\n",
       "    </tr>\n",
       "    <tr>\n",
       "      <td>4</td>\n",
       "      <td>548435</td>\n",
       "      <td>2015-11-30</td>\n",
       "      <td>Ads</td>\n",
       "      <td>Web</td>\n",
       "      <td>ES</td>\n",
       "      <td>Google</td>\n",
       "      <td>FireFox</td>\n",
       "      <td>0</td>\n",
       "      <td>1</td>\n",
       "    </tr>\n",
       "  </tbody>\n",
       "</table>\n",
       "</div>"
      ],
      "text/plain": [
       "   user_id        date  source  device browser_language ads_channel  \\\n",
       "0   315281  2015-12-03  Direct     Web               ES         NaN   \n",
       "1   497851  2015-12-04     Ads     Web               ES      Google   \n",
       "2   848402  2015-12-04     Ads     Web               ES    Facebook   \n",
       "3   290051  2015-12-03     Ads  Mobile            Other    Facebook   \n",
       "4   548435  2015-11-30     Ads     Web               ES      Google   \n",
       "\n",
       "       browser  conversion  test  \n",
       "0           IE           1     0  \n",
       "1           IE           0     1  \n",
       "2       Chrome           0     0  \n",
       "3  Android_App           0     1  \n",
       "4      FireFox           0     1  "
      ]
     },
     "execution_count": 12,
     "metadata": {},
     "output_type": "execute_result"
    }
   ],
   "source": [
    "test = pd.read_csv('/Users/.../Desktop/ds take home/A collection of Data Science take-home challenge/Spanish Translation A/Translation_Test/test_table.csv')\n",
    "user = pd.read_csv('/Users/.../Desktop/ds take home/A collection of Data Science take-home challenge/Spanish Translation A/Translation_Test/user_table.csv')\n",
    "\n",
    "test.head()"
   ]
  },
  {
   "cell_type": "code",
   "execution_count": 5,
   "metadata": {},
   "outputs": [
    {
     "data": {
      "text/html": [
       "<div>\n",
       "<style scoped>\n",
       "    .dataframe tbody tr th:only-of-type {\n",
       "        vertical-align: middle;\n",
       "    }\n",
       "\n",
       "    .dataframe tbody tr th {\n",
       "        vertical-align: top;\n",
       "    }\n",
       "\n",
       "    .dataframe thead th {\n",
       "        text-align: right;\n",
       "    }\n",
       "</style>\n",
       "<table border=\"1\" class=\"dataframe\">\n",
       "  <thead>\n",
       "    <tr style=\"text-align: right;\">\n",
       "      <th></th>\n",
       "      <th>user_id</th>\n",
       "      <th>sex</th>\n",
       "      <th>age</th>\n",
       "      <th>country</th>\n",
       "    </tr>\n",
       "  </thead>\n",
       "  <tbody>\n",
       "    <tr>\n",
       "      <td>0</td>\n",
       "      <td>765821</td>\n",
       "      <td>M</td>\n",
       "      <td>20</td>\n",
       "      <td>Mexico</td>\n",
       "    </tr>\n",
       "    <tr>\n",
       "      <td>1</td>\n",
       "      <td>343561</td>\n",
       "      <td>F</td>\n",
       "      <td>27</td>\n",
       "      <td>Nicaragua</td>\n",
       "    </tr>\n",
       "    <tr>\n",
       "      <td>2</td>\n",
       "      <td>118744</td>\n",
       "      <td>M</td>\n",
       "      <td>23</td>\n",
       "      <td>Colombia</td>\n",
       "    </tr>\n",
       "    <tr>\n",
       "      <td>3</td>\n",
       "      <td>987753</td>\n",
       "      <td>F</td>\n",
       "      <td>27</td>\n",
       "      <td>Venezuela</td>\n",
       "    </tr>\n",
       "    <tr>\n",
       "      <td>4</td>\n",
       "      <td>554597</td>\n",
       "      <td>F</td>\n",
       "      <td>20</td>\n",
       "      <td>Spain</td>\n",
       "    </tr>\n",
       "  </tbody>\n",
       "</table>\n",
       "</div>"
      ],
      "text/plain": [
       "   user_id sex  age    country\n",
       "0   765821   M   20     Mexico\n",
       "1   343561   F   27  Nicaragua\n",
       "2   118744   M   23   Colombia\n",
       "3   987753   F   27  Venezuela\n",
       "4   554597   F   20      Spain"
      ]
     },
     "execution_count": 5,
     "metadata": {},
     "output_type": "execute_result"
    }
   ],
   "source": [
    "user.head()"
   ]
  },
  {
   "cell_type": "code",
   "execution_count": 11,
   "metadata": {},
   "outputs": [
    {
     "data": {
      "text/html": [
       "<div>\n",
       "<style scoped>\n",
       "    .dataframe tbody tr th:only-of-type {\n",
       "        vertical-align: middle;\n",
       "    }\n",
       "\n",
       "    .dataframe tbody tr th {\n",
       "        vertical-align: top;\n",
       "    }\n",
       "\n",
       "    .dataframe thead th {\n",
       "        text-align: right;\n",
       "    }\n",
       "</style>\n",
       "<table border=\"1\" class=\"dataframe\">\n",
       "  <thead>\n",
       "    <tr style=\"text-align: right;\">\n",
       "      <th></th>\n",
       "      <th>user_id</th>\n",
       "      <th>date</th>\n",
       "      <th>source</th>\n",
       "      <th>device</th>\n",
       "      <th>browser_language</th>\n",
       "      <th>ads_channel</th>\n",
       "      <th>browser</th>\n",
       "      <th>conversion</th>\n",
       "      <th>test</th>\n",
       "    </tr>\n",
       "  </thead>\n",
       "  <tbody>\n",
       "    <tr>\n",
       "      <td>count</td>\n",
       "      <td>453321.000000</td>\n",
       "      <td>453321</td>\n",
       "      <td>453321</td>\n",
       "      <td>453321</td>\n",
       "      <td>453321</td>\n",
       "      <td>181877</td>\n",
       "      <td>453321</td>\n",
       "      <td>453321.000000</td>\n",
       "      <td>453321.000000</td>\n",
       "    </tr>\n",
       "    <tr>\n",
       "      <td>unique</td>\n",
       "      <td>NaN</td>\n",
       "      <td>5</td>\n",
       "      <td>3</td>\n",
       "      <td>2</td>\n",
       "      <td>3</td>\n",
       "      <td>5</td>\n",
       "      <td>7</td>\n",
       "      <td>NaN</td>\n",
       "      <td>NaN</td>\n",
       "    </tr>\n",
       "    <tr>\n",
       "      <td>top</td>\n",
       "      <td>NaN</td>\n",
       "      <td>2015-12-04</td>\n",
       "      <td>Ads</td>\n",
       "      <td>Web</td>\n",
       "      <td>ES</td>\n",
       "      <td>Facebook</td>\n",
       "      <td>Android_App</td>\n",
       "      <td>NaN</td>\n",
       "      <td>NaN</td>\n",
       "    </tr>\n",
       "    <tr>\n",
       "      <td>freq</td>\n",
       "      <td>NaN</td>\n",
       "      <td>141163</td>\n",
       "      <td>181877</td>\n",
       "      <td>251565</td>\n",
       "      <td>377547</td>\n",
       "      <td>68425</td>\n",
       "      <td>155135</td>\n",
       "      <td>NaN</td>\n",
       "      <td>NaN</td>\n",
       "    </tr>\n",
       "    <tr>\n",
       "      <td>mean</td>\n",
       "      <td>499937.514728</td>\n",
       "      <td>NaN</td>\n",
       "      <td>NaN</td>\n",
       "      <td>NaN</td>\n",
       "      <td>NaN</td>\n",
       "      <td>NaN</td>\n",
       "      <td>NaN</td>\n",
       "      <td>0.049579</td>\n",
       "      <td>0.476446</td>\n",
       "    </tr>\n",
       "    <tr>\n",
       "      <td>std</td>\n",
       "      <td>288665.193436</td>\n",
       "      <td>NaN</td>\n",
       "      <td>NaN</td>\n",
       "      <td>NaN</td>\n",
       "      <td>NaN</td>\n",
       "      <td>NaN</td>\n",
       "      <td>NaN</td>\n",
       "      <td>0.217073</td>\n",
       "      <td>0.499445</td>\n",
       "    </tr>\n",
       "    <tr>\n",
       "      <td>min</td>\n",
       "      <td>1.000000</td>\n",
       "      <td>NaN</td>\n",
       "      <td>NaN</td>\n",
       "      <td>NaN</td>\n",
       "      <td>NaN</td>\n",
       "      <td>NaN</td>\n",
       "      <td>NaN</td>\n",
       "      <td>0.000000</td>\n",
       "      <td>0.000000</td>\n",
       "    </tr>\n",
       "    <tr>\n",
       "      <td>25%</td>\n",
       "      <td>249816.000000</td>\n",
       "      <td>NaN</td>\n",
       "      <td>NaN</td>\n",
       "      <td>NaN</td>\n",
       "      <td>NaN</td>\n",
       "      <td>NaN</td>\n",
       "      <td>NaN</td>\n",
       "      <td>0.000000</td>\n",
       "      <td>0.000000</td>\n",
       "    </tr>\n",
       "    <tr>\n",
       "      <td>50%</td>\n",
       "      <td>500019.000000</td>\n",
       "      <td>NaN</td>\n",
       "      <td>NaN</td>\n",
       "      <td>NaN</td>\n",
       "      <td>NaN</td>\n",
       "      <td>NaN</td>\n",
       "      <td>NaN</td>\n",
       "      <td>0.000000</td>\n",
       "      <td>0.000000</td>\n",
       "    </tr>\n",
       "    <tr>\n",
       "      <td>75%</td>\n",
       "      <td>749522.000000</td>\n",
       "      <td>NaN</td>\n",
       "      <td>NaN</td>\n",
       "      <td>NaN</td>\n",
       "      <td>NaN</td>\n",
       "      <td>NaN</td>\n",
       "      <td>NaN</td>\n",
       "      <td>0.000000</td>\n",
       "      <td>1.000000</td>\n",
       "    </tr>\n",
       "    <tr>\n",
       "      <td>max</td>\n",
       "      <td>1000000.000000</td>\n",
       "      <td>NaN</td>\n",
       "      <td>NaN</td>\n",
       "      <td>NaN</td>\n",
       "      <td>NaN</td>\n",
       "      <td>NaN</td>\n",
       "      <td>NaN</td>\n",
       "      <td>1.000000</td>\n",
       "      <td>1.000000</td>\n",
       "    </tr>\n",
       "  </tbody>\n",
       "</table>\n",
       "</div>"
      ],
      "text/plain": [
       "               user_id        date  source  device browser_language  \\\n",
       "count    453321.000000      453321  453321  453321           453321   \n",
       "unique             NaN           5       3       2                3   \n",
       "top                NaN  2015-12-04     Ads     Web               ES   \n",
       "freq               NaN      141163  181877  251565           377547   \n",
       "mean     499937.514728         NaN     NaN     NaN              NaN   \n",
       "std      288665.193436         NaN     NaN     NaN              NaN   \n",
       "min           1.000000         NaN     NaN     NaN              NaN   \n",
       "25%      249816.000000         NaN     NaN     NaN              NaN   \n",
       "50%      500019.000000         NaN     NaN     NaN              NaN   \n",
       "75%      749522.000000         NaN     NaN     NaN              NaN   \n",
       "max     1000000.000000         NaN     NaN     NaN              NaN   \n",
       "\n",
       "       ads_channel      browser     conversion           test  \n",
       "count       181877       453321  453321.000000  453321.000000  \n",
       "unique           5            7            NaN            NaN  \n",
       "top       Facebook  Android_App            NaN            NaN  \n",
       "freq         68425       155135            NaN            NaN  \n",
       "mean           NaN          NaN       0.049579       0.476446  \n",
       "std            NaN          NaN       0.217073       0.499445  \n",
       "min            NaN          NaN       0.000000       0.000000  \n",
       "25%            NaN          NaN       0.000000       0.000000  \n",
       "50%            NaN          NaN       0.000000       0.000000  \n",
       "75%            NaN          NaN       0.000000       1.000000  \n",
       "max            NaN          NaN       1.000000       1.000000  "
      ]
     },
     "execution_count": 11,
     "metadata": {},
     "output_type": "execute_result"
    }
   ],
   "source": [
    "test.describe(include=\"all\")"
   ]
  },
  {
   "cell_type": "code",
   "execution_count": 10,
   "metadata": {},
   "outputs": [
    {
     "data": {
      "text/html": [
       "<div>\n",
       "<style scoped>\n",
       "    .dataframe tbody tr th:only-of-type {\n",
       "        vertical-align: middle;\n",
       "    }\n",
       "\n",
       "    .dataframe tbody tr th {\n",
       "        vertical-align: top;\n",
       "    }\n",
       "\n",
       "    .dataframe thead th {\n",
       "        text-align: right;\n",
       "    }\n",
       "</style>\n",
       "<table border=\"1\" class=\"dataframe\">\n",
       "  <thead>\n",
       "    <tr style=\"text-align: right;\">\n",
       "      <th></th>\n",
       "      <th>user_id</th>\n",
       "      <th>sex</th>\n",
       "      <th>age</th>\n",
       "      <th>country</th>\n",
       "    </tr>\n",
       "  </thead>\n",
       "  <tbody>\n",
       "    <tr>\n",
       "      <td>count</td>\n",
       "      <td>452867.000000</td>\n",
       "      <td>452867</td>\n",
       "      <td>452867.000000</td>\n",
       "      <td>452867</td>\n",
       "    </tr>\n",
       "    <tr>\n",
       "      <td>unique</td>\n",
       "      <td>NaN</td>\n",
       "      <td>2</td>\n",
       "      <td>NaN</td>\n",
       "      <td>17</td>\n",
       "    </tr>\n",
       "    <tr>\n",
       "      <td>top</td>\n",
       "      <td>NaN</td>\n",
       "      <td>M</td>\n",
       "      <td>NaN</td>\n",
       "      <td>Mexico</td>\n",
       "    </tr>\n",
       "    <tr>\n",
       "      <td>freq</td>\n",
       "      <td>NaN</td>\n",
       "      <td>264485</td>\n",
       "      <td>NaN</td>\n",
       "      <td>128484</td>\n",
       "    </tr>\n",
       "    <tr>\n",
       "      <td>mean</td>\n",
       "      <td>499944.805166</td>\n",
       "      <td>NaN</td>\n",
       "      <td>27.130740</td>\n",
       "      <td>NaN</td>\n",
       "    </tr>\n",
       "    <tr>\n",
       "      <td>std</td>\n",
       "      <td>288676.264784</td>\n",
       "      <td>NaN</td>\n",
       "      <td>6.776678</td>\n",
       "      <td>NaN</td>\n",
       "    </tr>\n",
       "    <tr>\n",
       "      <td>min</td>\n",
       "      <td>1.000000</td>\n",
       "      <td>NaN</td>\n",
       "      <td>18.000000</td>\n",
       "      <td>NaN</td>\n",
       "    </tr>\n",
       "    <tr>\n",
       "      <td>25%</td>\n",
       "      <td>249819.000000</td>\n",
       "      <td>NaN</td>\n",
       "      <td>22.000000</td>\n",
       "      <td>NaN</td>\n",
       "    </tr>\n",
       "    <tr>\n",
       "      <td>50%</td>\n",
       "      <td>500019.000000</td>\n",
       "      <td>NaN</td>\n",
       "      <td>26.000000</td>\n",
       "      <td>NaN</td>\n",
       "    </tr>\n",
       "    <tr>\n",
       "      <td>75%</td>\n",
       "      <td>749543.000000</td>\n",
       "      <td>NaN</td>\n",
       "      <td>31.000000</td>\n",
       "      <td>NaN</td>\n",
       "    </tr>\n",
       "    <tr>\n",
       "      <td>max</td>\n",
       "      <td>1000000.000000</td>\n",
       "      <td>NaN</td>\n",
       "      <td>70.000000</td>\n",
       "      <td>NaN</td>\n",
       "    </tr>\n",
       "  </tbody>\n",
       "</table>\n",
       "</div>"
      ],
      "text/plain": [
       "               user_id     sex            age country\n",
       "count    452867.000000  452867  452867.000000  452867\n",
       "unique             NaN       2            NaN      17\n",
       "top                NaN       M            NaN  Mexico\n",
       "freq               NaN  264485            NaN  128484\n",
       "mean     499944.805166     NaN      27.130740     NaN\n",
       "std      288676.264784     NaN       6.776678     NaN\n",
       "min           1.000000     NaN      18.000000     NaN\n",
       "25%      249819.000000     NaN      22.000000     NaN\n",
       "50%      500019.000000     NaN      26.000000     NaN\n",
       "75%      749543.000000     NaN      31.000000     NaN\n",
       "max     1000000.000000     NaN      70.000000     NaN"
      ]
     },
     "execution_count": 10,
     "metadata": {},
     "output_type": "execute_result"
    }
   ],
   "source": [
    "user.describe(include=\"all\")"
   ]
  },
  {
   "cell_type": "code",
   "execution_count": 14,
   "metadata": {},
   "outputs": [
    {
     "data": {
      "text/html": [
       "<div>\n",
       "<style scoped>\n",
       "    .dataframe tbody tr th:only-of-type {\n",
       "        vertical-align: middle;\n",
       "    }\n",
       "\n",
       "    .dataframe tbody tr th {\n",
       "        vertical-align: top;\n",
       "    }\n",
       "\n",
       "    .dataframe thead th {\n",
       "        text-align: right;\n",
       "    }\n",
       "</style>\n",
       "<table border=\"1\" class=\"dataframe\">\n",
       "  <thead>\n",
       "    <tr style=\"text-align: right;\">\n",
       "      <th></th>\n",
       "      <th>user_id</th>\n",
       "      <th>date</th>\n",
       "      <th>source</th>\n",
       "      <th>device</th>\n",
       "      <th>browser_language</th>\n",
       "      <th>ads_channel</th>\n",
       "      <th>browser</th>\n",
       "      <th>conversion</th>\n",
       "      <th>test</th>\n",
       "      <th>sex</th>\n",
       "      <th>age</th>\n",
       "      <th>country</th>\n",
       "      <th>_merge</th>\n",
       "    </tr>\n",
       "  </thead>\n",
       "  <tbody>\n",
       "    <tr>\n",
       "      <td>0</td>\n",
       "      <td>315281</td>\n",
       "      <td>2015-12-03</td>\n",
       "      <td>Direct</td>\n",
       "      <td>Web</td>\n",
       "      <td>ES</td>\n",
       "      <td>NaN</td>\n",
       "      <td>IE</td>\n",
       "      <td>1</td>\n",
       "      <td>0</td>\n",
       "      <td>M</td>\n",
       "      <td>32.0</td>\n",
       "      <td>Spain</td>\n",
       "      <td>both</td>\n",
       "    </tr>\n",
       "    <tr>\n",
       "      <td>1</td>\n",
       "      <td>497851</td>\n",
       "      <td>2015-12-04</td>\n",
       "      <td>Ads</td>\n",
       "      <td>Web</td>\n",
       "      <td>ES</td>\n",
       "      <td>Google</td>\n",
       "      <td>IE</td>\n",
       "      <td>0</td>\n",
       "      <td>1</td>\n",
       "      <td>M</td>\n",
       "      <td>21.0</td>\n",
       "      <td>Mexico</td>\n",
       "      <td>both</td>\n",
       "    </tr>\n",
       "    <tr>\n",
       "      <td>2</td>\n",
       "      <td>848402</td>\n",
       "      <td>2015-12-04</td>\n",
       "      <td>Ads</td>\n",
       "      <td>Web</td>\n",
       "      <td>ES</td>\n",
       "      <td>Facebook</td>\n",
       "      <td>Chrome</td>\n",
       "      <td>0</td>\n",
       "      <td>0</td>\n",
       "      <td>M</td>\n",
       "      <td>34.0</td>\n",
       "      <td>Spain</td>\n",
       "      <td>both</td>\n",
       "    </tr>\n",
       "    <tr>\n",
       "      <td>3</td>\n",
       "      <td>290051</td>\n",
       "      <td>2015-12-03</td>\n",
       "      <td>Ads</td>\n",
       "      <td>Mobile</td>\n",
       "      <td>Other</td>\n",
       "      <td>Facebook</td>\n",
       "      <td>Android_App</td>\n",
       "      <td>0</td>\n",
       "      <td>1</td>\n",
       "      <td>F</td>\n",
       "      <td>22.0</td>\n",
       "      <td>Mexico</td>\n",
       "      <td>both</td>\n",
       "    </tr>\n",
       "    <tr>\n",
       "      <td>4</td>\n",
       "      <td>548435</td>\n",
       "      <td>2015-11-30</td>\n",
       "      <td>Ads</td>\n",
       "      <td>Web</td>\n",
       "      <td>ES</td>\n",
       "      <td>Google</td>\n",
       "      <td>FireFox</td>\n",
       "      <td>0</td>\n",
       "      <td>1</td>\n",
       "      <td>M</td>\n",
       "      <td>19.0</td>\n",
       "      <td>Mexico</td>\n",
       "      <td>both</td>\n",
       "    </tr>\n",
       "  </tbody>\n",
       "</table>\n",
       "</div>"
      ],
      "text/plain": [
       "   user_id        date  source  device browser_language ads_channel  \\\n",
       "0   315281  2015-12-03  Direct     Web               ES         NaN   \n",
       "1   497851  2015-12-04     Ads     Web               ES      Google   \n",
       "2   848402  2015-12-04     Ads     Web               ES    Facebook   \n",
       "3   290051  2015-12-03     Ads  Mobile            Other    Facebook   \n",
       "4   548435  2015-11-30     Ads     Web               ES      Google   \n",
       "\n",
       "       browser  conversion  test sex   age country _merge  \n",
       "0           IE           1     0   M  32.0   Spain   both  \n",
       "1           IE           0     1   M  21.0  Mexico   both  \n",
       "2       Chrome           0     0   M  34.0   Spain   both  \n",
       "3  Android_App           0     1   F  22.0  Mexico   both  \n",
       "4      FireFox           0     1   M  19.0  Mexico   both  "
      ]
     },
     "execution_count": 14,
     "metadata": {},
     "output_type": "execute_result"
    }
   ],
   "source": [
    "# merge datasets\n",
    "new = pd.merge(test,user,how=\"left\",left_on=\"user_id\",right_on=\"user_id\",indicator=True)\n",
    "new.head()\n",
    "#pd.merge: merge DataFrame objects by performing a database-style join operation by columns or indexes\n",
    "#pandas.merge(left,right,how=\"inner\",on=None,left_on=None,right_on=None,left_index=False,right_index=False,\n",
    "#             sort=False,suffixes=(\"_x\",\"_y\"),copy=True,indicator=Flase,validate=None)\n",
    "# If joining columns on columns, the DataFrame indexes will be ignored. Otherwise if joining indexes on indexes\n",
    "# or indexes on a column or columns, the index will be passed on\n",
    "# left_index: use the index from the left DataFrame as the join keys. \n",
    "# rigth_index: use the index from the right DataFrame as the join key.\n",
    "# suffixes: suffix to apply to overlapping column names in the left and right side, respecitively\n",
    "# indicator: information columns is Categorical-type and takse on a value of \"left-only\" for observations whose\n",
    "# merge key only appears in the \"left\" DataFrame, \"right_only\" for observations whose merge key only apprears\n",
    "# in \"right\" DataFrame, and \"both\" if the observation's merge key is found in both\n",
    "# validate: if specified, checks if merge is of specified type: \"one_to_one\", \"one_to_many\",\"many_to_one\",\"many_to_many\""
   ]
  },
  {
   "cell_type": "code",
   "execution_count": 23,
   "metadata": {},
   "outputs": [
    {
     "data": {
      "text/html": [
       "<div>\n",
       "<style scoped>\n",
       "    .dataframe tbody tr th:only-of-type {\n",
       "        vertical-align: middle;\n",
       "    }\n",
       "\n",
       "    .dataframe tbody tr th {\n",
       "        vertical-align: top;\n",
       "    }\n",
       "\n",
       "    .dataframe thead th {\n",
       "        text-align: right;\n",
       "    }\n",
       "</style>\n",
       "<table border=\"1\" class=\"dataframe\">\n",
       "  <thead>\n",
       "    <tr style=\"text-align: right;\">\n",
       "      <th></th>\n",
       "      <th>column_name</th>\n",
       "      <th>percent_missing</th>\n",
       "    </tr>\n",
       "  </thead>\n",
       "  <tbody>\n",
       "    <tr>\n",
       "      <td>user_id</td>\n",
       "      <td>user_id</td>\n",
       "      <td>0.000000</td>\n",
       "    </tr>\n",
       "    <tr>\n",
       "      <td>date</td>\n",
       "      <td>date</td>\n",
       "      <td>0.000000</td>\n",
       "    </tr>\n",
       "    <tr>\n",
       "      <td>source</td>\n",
       "      <td>source</td>\n",
       "      <td>0.000000</td>\n",
       "    </tr>\n",
       "    <tr>\n",
       "      <td>device</td>\n",
       "      <td>device</td>\n",
       "      <td>0.000000</td>\n",
       "    </tr>\n",
       "    <tr>\n",
       "      <td>browser_language</td>\n",
       "      <td>browser_language</td>\n",
       "      <td>0.000000</td>\n",
       "    </tr>\n",
       "    <tr>\n",
       "      <td>ads_channel</td>\n",
       "      <td>ads_channel</td>\n",
       "      <td>59.878982</td>\n",
       "    </tr>\n",
       "    <tr>\n",
       "      <td>browser</td>\n",
       "      <td>browser</td>\n",
       "      <td>0.000000</td>\n",
       "    </tr>\n",
       "    <tr>\n",
       "      <td>conversion</td>\n",
       "      <td>conversion</td>\n",
       "      <td>0.000000</td>\n",
       "    </tr>\n",
       "    <tr>\n",
       "      <td>test</td>\n",
       "      <td>test</td>\n",
       "      <td>0.000000</td>\n",
       "    </tr>\n",
       "    <tr>\n",
       "      <td>sex</td>\n",
       "      <td>sex</td>\n",
       "      <td>0.100150</td>\n",
       "    </tr>\n",
       "    <tr>\n",
       "      <td>age</td>\n",
       "      <td>age</td>\n",
       "      <td>0.100150</td>\n",
       "    </tr>\n",
       "    <tr>\n",
       "      <td>country</td>\n",
       "      <td>country</td>\n",
       "      <td>0.100150</td>\n",
       "    </tr>\n",
       "    <tr>\n",
       "      <td>_merge</td>\n",
       "      <td>_merge</td>\n",
       "      <td>0.000000</td>\n",
       "    </tr>\n",
       "  </tbody>\n",
       "</table>\n",
       "</div>"
      ],
      "text/plain": [
       "                       column_name  percent_missing\n",
       "user_id                    user_id         0.000000\n",
       "date                          date         0.000000\n",
       "source                      source         0.000000\n",
       "device                      device         0.000000\n",
       "browser_language  browser_language         0.000000\n",
       "ads_channel            ads_channel        59.878982\n",
       "browser                    browser         0.000000\n",
       "conversion              conversion         0.000000\n",
       "test                          test         0.000000\n",
       "sex                            sex         0.100150\n",
       "age                            age         0.100150\n",
       "country                    country         0.100150\n",
       "_merge                      _merge         0.000000"
      ]
     },
     "execution_count": 23,
     "metadata": {},
     "output_type": "execute_result"
    }
   ],
   "source": [
    "# error: '<' not supported between instances of 'str' and 'float'\n",
    "# missing values would be treated as float\n",
    "# percentage of missing values\n",
    "percent_missing=new.isnull().sum()*100/len(new)\n",
    "missing_value=pd.DataFrame({\"column_name\":new.columns,\"percent_missing\":percent_missing})\n",
    "missing_value.sort_values(\"percent_missing\")\n",
    "# when inplace=True is passed, the data is renamed in palce (it returns nothing); \n",
    "# when inplace=Flase(this is the default value) is passed, performs the operation and returns a copy of the object\n",
    "missing_value\n",
    "# there is no missing values in this project"
   ]
  },
  {
   "cell_type": "code",
   "execution_count": 25,
   "metadata": {},
   "outputs": [],
   "source": [
    "# change the missing value in sex,country, ads_channel as missing value\n",
    "new[[\"sex\",\"country\",\"ads_channel\"]]=new[[\"sex\",\"country\",\"ads_channel\"]].fillna(\"\")"
   ]
  },
  {
   "cell_type": "code",
   "execution_count": 29,
   "metadata": {},
   "outputs": [
    {
     "name": "stdout",
     "output_type": "stream",
     "text": [
      "user_id             \t453321\t [1, 2, 3, 5, 8]\n",
      "date                \t    5\t ['2015-11-30', '2015-12-01', '2015-12-02', '2015-12-03', '2015-12-04']\n",
      "source              \t    3\t ['Ads', 'Direct', 'SEO']\n",
      "device              \t    2\t ['Mobile', 'Web']\n",
      "browser_language    \t    3\t ['EN', 'ES', 'Other']\n",
      "ads_channel         \t    6\t ['', 'Bing', 'Facebook', 'Google', 'Other']\n",
      "browser             \t    7\t ['Android_App', 'Chrome', 'FireFox', 'IE', 'Iphone_App']\n",
      "conversion          \t    2\t [0, 1]\n",
      "test                \t    2\t [0, 1]\n",
      "sex                 \t    3\t ['', 'F', 'M']\n",
      "age                 \t   53\t [18.0, 19.0, 20.0, 21.0, 22.0]\n",
      "country             \t   18\t ['', 'Argentina', 'Bolivia', 'Chile', 'Colombia']\n",
      "_merge              \t    2\t ['both', 'left_only']\n"
     ]
    }
   ],
   "source": [
    "# check unique values:\n",
    "for column in new.columns:\n",
    "    uniques = sorted(new[column].unique())\n",
    "    print(\"{0:20s}\\t{1:5d}\\t\".format(column,len(uniques)),uniques[:5])\n",
    "# limit the showing unique alues to 5 in case space and time limitation "
   ]
  },
  {
   "cell_type": "code",
   "execution_count": 18,
   "metadata": {},
   "outputs": [
    {
     "name": "stdout",
     "output_type": "stream",
     "text": [
      "['date', 'source', 'device', 'browser_language', 'ads_channel', 'browser', 'conversion', 'test', 'sex', 'age', 'country', '_merge']\n",
      "col_0        count\n",
      "date              \n",
      "2015-11-30   71025\n",
      "2015-12-01   70991\n",
      "2015-12-02   70649\n",
      "2015-12-03   99493\n",
      "2015-12-04  141163\n",
      "col_0    count\n",
      "source        \n",
      "Ads     181877\n",
      "Direct   90834\n",
      "SEO     180610\n",
      "col_0    count\n",
      "device        \n",
      "Mobile  201756\n",
      "Web     251565\n",
      "col_0              count\n",
      "browser_language        \n",
      "EN                 63137\n",
      "ES                377547\n",
      "Other              12637\n",
      "col_0        count\n",
      "ads_channel       \n",
      "Bing         13689\n",
      "Facebook     68425\n",
      "Google       68180\n",
      "Other         4148\n",
      "Yahoo        27435\n",
      "col_0         count\n",
      "browser            \n",
      "Android_App  155135\n",
      "Chrome       101929\n",
      "FireFox       40766\n",
      "IE            61715\n",
      "Iphone_App    46621\n",
      "Opera          6090\n",
      "Safari        41065\n",
      "col_0        count\n",
      "conversion        \n",
      "0           430846\n",
      "1            22475\n",
      "col_0   count\n",
      "test         \n",
      "0      237338\n",
      "1      215983\n",
      "col_0   count\n",
      "sex          \n",
      "F      188382\n",
      "M      264485\n",
      "col_0  count\n",
      "age         \n",
      "18.0   25907\n",
      "19.0   26714\n",
      "20.0   27046\n",
      "21.0   27601\n",
      "22.0   27287\n",
      "23.0   27064\n",
      "24.0   26805\n",
      "25.0   26091\n",
      "26.0   24975\n",
      "27.0   23717\n",
      "28.0   22134\n",
      "29.0   20712\n",
      "30.0   19319\n",
      "31.0   17680\n",
      "32.0   16109\n",
      "33.0   14211\n",
      "34.0   12630\n",
      "35.0   11236\n",
      "36.0    9603\n",
      "37.0    8172\n",
      "38.0    7214\n",
      "39.0    5816\n",
      "40.0    4984\n",
      "41.0    4129\n",
      "42.0    3376\n",
      "43.0    2687\n",
      "44.0    2155\n",
      "45.0    1760\n",
      "46.0    1388\n",
      "47.0    1057\n",
      "48.0     860\n",
      "49.0     637\n",
      "50.0     494\n",
      "51.0     358\n",
      "52.0     267\n",
      "53.0     229\n",
      "54.0     130\n",
      "55.0     109\n",
      "56.0      58\n",
      "57.0      51\n",
      "58.0      30\n",
      "59.0      14\n",
      "60.0      21\n",
      "61.0      11\n",
      "62.0       5\n",
      "63.0       6\n",
      "64.0       2\n",
      "65.0       2\n",
      "66.0       1\n",
      "67.0       1\n",
      "68.0       1\n",
      "70.0       1\n",
      "col_0         count\n",
      "country            \n",
      "Argentina     46733\n",
      "Bolivia       11124\n",
      "Chile         19737\n",
      "Colombia      54060\n",
      "Costa Rica     5309\n",
      "Ecuador       15895\n",
      "El Salvador    8175\n",
      "Guatemala     15125\n",
      "Honduras       8568\n",
      "Mexico       128484\n",
      "Nicaragua      6723\n",
      "Panama         3951\n",
      "Paraguay       7347\n",
      "Peru          33666\n",
      "Spain         51782\n",
      "Uruguay        4134\n",
      "Venezuela     32054\n",
      "col_0       count\n",
      "_merge           \n",
      "left_only     454\n",
      "both       452867\n"
     ]
    }
   ],
   "source": [
    "# check outliers for categorical data\n",
    "# calculate the frequency of each unique variable\n",
    "categorical = list(new.columns)\n",
    "categorical.remove(\"user_id\")\n",
    "print(categorical)\n",
    "for column in categorical:\n",
    "    a = pd.crosstab(index=new[column],columns=\"count\")\n",
    "    print(a)"
   ]
  },
  {
   "cell_type": "code",
   "execution_count": 31,
   "metadata": {},
   "outputs": [
    {
     "name": "stdout",
     "output_type": "stream",
     "text": [
      "the highest conversion rate: conversion    0.079719\n",
      "dtype: float64\n",
      "the highet conversion country in control group: conversion    Spain\n",
      "dtype: object\n"
     ]
    }
   ],
   "source": [
    "####### Question One: it appears that the old version of the site with just one translation across Spain and LatAm performs\n",
    "# old_version performance\n",
    "old_version_mean = new[new.test==0][[\"conversion\",\"country\"]].groupby(\"country\").mean()\n",
    "print(\"the highest conversion rate:\",\n",
    "old_version_mean.max())\n",
    "print(\"the highet conversion country in control group:\", old_version_mean.idxmax(axis=0))"
   ]
  },
  {
   "cell_type": "code",
   "execution_count": 41,
   "metadata": {},
   "outputs": [
    {
     "data": {
      "image/png": "[encoded data removed]",
      "text/plain": [
       "<Figure size 1296x432 with 1 Axes>"
      ]
     },
     "metadata": {
      "needs_background": "light"
     },
     "output_type": "display_data"
    }
   ],
   "source": [
    "# visualize the result            \n",
    "fig,ax=plt.subplots(figsize=(18,6))\n",
    "sns.barplot(x=\"country\",y=\"conversion\",data=new[new.test==0],ax=ax)\n",
    "ax.set_title(\"Mean conversion Rate per Country in Control Group\",fontsize=16)\n",
    "plt.show()"
   ]
  },
  {
   "cell_type": "code",
   "execution_count": 37,
   "metadata": {},
   "outputs": [
    {
     "data": {
      "text/html": [
       "<div>\n",
       "<style scoped>\n",
       "    .dataframe tbody tr th:only-of-type {\n",
       "        vertical-align: middle;\n",
       "    }\n",
       "\n",
       "    .dataframe tbody tr th {\n",
       "        vertical-align: top;\n",
       "    }\n",
       "\n",
       "    .dataframe thead th {\n",
       "        text-align: right;\n",
       "    }\n",
       "</style>\n",
       "<table border=\"1\" class=\"dataframe\">\n",
       "  <thead>\n",
       "    <tr style=\"text-align: right;\">\n",
       "      <th></th>\n",
       "      <th>conversion</th>\n",
       "    </tr>\n",
       "    <tr>\n",
       "      <th>test</th>\n",
       "      <th></th>\n",
       "    </tr>\n",
       "  </thead>\n",
       "  <tbody>\n",
       "    <tr>\n",
       "      <td>0</td>\n",
       "      <td>0.055179</td>\n",
       "    </tr>\n",
       "    <tr>\n",
       "      <td>1</td>\n",
       "      <td>0.043425</td>\n",
       "    </tr>\n",
       "  </tbody>\n",
       "</table>\n",
       "</div>"
      ],
      "text/plain": [
       "      conversion\n",
       "test            \n",
       "0       0.055179\n",
       "1       0.043425"
      ]
     },
     "execution_count": 37,
     "metadata": {},
     "output_type": "execute_result"
    }
   ],
   "source": [
    "# two version comparation\n",
    "two_group = new[[\"conversion\",\"test\"]].groupby(\"test\").mean()\n",
    "two_group"
   ]
  },
  {
   "cell_type": "code",
   "execution_count": 39,
   "metadata": {},
   "outputs": [
    {
     "data": {
      "image/png": "[encoded data removed]",
      "text/plain": [
       "<Figure size 1296x432 with 1 Axes>"
      ]
     },
     "metadata": {
      "needs_background": "light"
     },
     "output_type": "display_data"
    }
   ],
   "source": [
    "fig,ax=plt.subplots(figsize=(18,6))\n",
    "sns.barplot(x=\"test\",y=\"conversion\",data=new,ax=ax)\n",
    "ax.set_title(\"Mean conversion Rate Control/Experiment\",fontsize=16)\n",
    "plt.show()"
   ]
  },
  {
   "cell_type": "code",
   "execution_count": 40,
   "metadata": {},
   "outputs": [
    {
     "name": "stdout",
     "output_type": "stream",
     "text": [
      "the highest conversion rate: conversion    0.054738\n",
      "dtype: float64\n",
      "the highet conversion country in experiment group: conversion    Costa Rica\n",
      "dtype: object\n"
     ]
    }
   ],
   "source": [
    "# new_version performance\n",
    "new_version_mean = new[new.test==1][[\"conversion\",\"country\"]].groupby(\"country\").mean()\n",
    "print(\"the highest conversion rate:\",\n",
    "new_version_mean.max())\n",
    "print(\"the highet conversion country in experiment group:\", new_version_mean.idxmax(axis=0))"
   ]
  },
  {
   "cell_type": "code",
   "execution_count": 42,
   "metadata": {},
   "outputs": [
    {
     "data": {
      "image/png": "[encoded data removed]",
      "text/plain": [
       "<Figure size 1296x432 with 1 Axes>"
      ]
     },
     "metadata": {
      "needs_background": "light"
     },
     "output_type": "display_data"
    }
   ],
   "source": [
    "fig,ax=plt.subplots(figsize=(18,6))\n",
    "sns.barplot(x=\"country\",y=\"conversion\",data=new[new.test==1],ax=ax)\n",
    "ax.set_title(\"Mean conversion Rate per Country in Experiment Group\",fontsize=16)\n",
    "plt.show()"
   ]
  },
  {
   "cell_type": "code",
   "execution_count": 43,
   "metadata": {},
   "outputs": [],
   "source": [
    "# Conclusion: old version performs better than new version\n",
    "# in old version, there are 17 countries. But in new version, there are 16 countries.\n",
    "# the reason leading to this might be the the additional country"
   ]
  },
  {
   "cell_type": "code",
   "execution_count": 46,
   "metadata": {},
   "outputs": [
    {
     "data": {
      "text/html": [
       "<div>\n",
       "<style scoped>\n",
       "    .dataframe tbody tr th:only-of-type {\n",
       "        vertical-align: middle;\n",
       "    }\n",
       "\n",
       "    .dataframe tbody tr th {\n",
       "        vertical-align: top;\n",
       "    }\n",
       "\n",
       "    .dataframe thead th {\n",
       "        text-align: right;\n",
       "    }\n",
       "</style>\n",
       "<table border=\"1\" class=\"dataframe\">\n",
       "  <thead>\n",
       "    <tr style=\"text-align: right;\">\n",
       "      <th></th>\n",
       "      <th>conversion</th>\n",
       "    </tr>\n",
       "    <tr>\n",
       "      <th>test</th>\n",
       "      <th></th>\n",
       "    </tr>\n",
       "  </thead>\n",
       "  <tbody>\n",
       "    <tr>\n",
       "      <td>0</td>\n",
       "      <td>0.048330</td>\n",
       "    </tr>\n",
       "    <tr>\n",
       "      <td>1</td>\n",
       "      <td>0.043425</td>\n",
       "    </tr>\n",
       "  </tbody>\n",
       "</table>\n",
       "</div>"
      ],
      "text/plain": [
       "      conversion\n",
       "test            \n",
       "0       0.048330\n",
       "1       0.043425"
      ]
     },
     "execution_count": 46,
     "metadata": {},
     "output_type": "execute_result"
    }
   ],
   "source": [
    "new_test = new[new.country != \"Spain\"]\n",
    "two_group_new = new_test[[\"conversion\",\"test\"]].groupby(\"test\").mean()\n",
    "two_group_new\n",
    "# after deleting \"Spain\", control group still works better than experiment group\n",
    "# Question 1: it is indeed a negative result for the test; conversion rate is dropping from 0.048 to 0.043"
   ]
  },
  {
   "cell_type": "code",
   "execution_count": 50,
   "metadata": {},
   "outputs": [
    {
     "data": {
      "text/plain": [
       "Ks_2sampResult(statistic=0.004905709178544049, pvalue=0.01639424421667436)"
      ]
     },
     "execution_count": 50,
     "metadata": {},
     "output_type": "execute_result"
    }
   ],
   "source": [
    "###### Question 2: Explain why that might be happening. Are the localized translations really worse?\n",
    "# A/B testing: hypothesis test calculate if the difference is in the confidence interval\n",
    "# here we conduct kolmogorove smirnov test to detect if the test and control groups are from same distribution\n",
    "scipy.stats.ks_2samp(new_test[new_test.test==0][\"conversion\"],new_test[new_test.test==1][\"conversion\"])\n",
    "# the null hypothesis is that both groups were sampled from populations with identical distribution\n",
    "# this is a statistically sigificant result that both groups did not from the same population. So localized translation\n",
    "# is statistically really worse"
   ]
  },
  {
   "cell_type": "code",
   "execution_count": null,
   "metadata": {},
   "outputs": [],
   "source": [
    "###### Question 3:If you identified what was wrong, design an algorithm that would return FALSE if the same problem is\n",
    "#              happening in the future and TRUE if everything is good and the results can be trusted.\n",
    "# potential reason: 1 duration and sample size\n",
    "#                   2 sanity check"
   ]
  },
  {
   "cell_type": "code",
   "execution_count": 53,
   "metadata": {},
   "outputs": [],
   "source": [
    "# check experimental sample size\n",
    "def get_sds(p,d):\n",
    "    sd1 = mt.sqrt(2*p*(1-p))\n",
    "    sd2 = mt.sqrt(p*(1-p)+(p+d)*(1-(p+d)))\n",
    "    x = [sd1,sd2]\n",
    "    return x\n",
    "\n",
    "def get_z_score(alpha):\n",
    "    return norm.ppf(alpha)\n",
    "\n",
    "def get_sampSize(sds,alpha,beta,d):\n",
    "    n = pow((get_z_score(1-alpha/2)*sds[0]+get_z_score(1-beta)*sds[1]),2)/pow(d,2)\n",
    "    return n"
   ]
  },
  {
   "cell_type": "code",
   "execution_count": 56,
   "metadata": {},
   "outputs": [
    {
     "data": {
      "text/plain": [
       "7336.0"
      ]
     },
     "execution_count": 56,
     "metadata": {},
     "output_type": "execute_result"
    }
   ],
   "source": [
    "# calculate sample size for conversion rate\n",
    "# Practical siginificance: 1%\n",
    "CR={}\n",
    "CR[\"d\"]=0.01\n",
    "CR[\"p\"]=old_version_mean.mean()\n",
    "CR[\"Sample\"]=round(get_sampSize(get_sds(CR[\"p\"],CR[\"d\"]),0.05,0.2,CR[\"d\"]))\n",
    "CR[\"Sample\"]"
   ]
  },
  {
   "cell_type": "code",
   "execution_count": 58,
   "metadata": {},
   "outputs": [
    {
     "data": {
      "text/plain": [
       "conversion    153850.767352\n",
       "dtype: float64"
      ]
     },
     "execution_count": 58,
     "metadata": {},
     "output_type": "execute_result"
    }
   ],
   "source": [
    "# so that means we need 7336 converted people per group and that means we need 153850 sample data points \n",
    "CR[\"Sample_all\"]=CR[\"Sample\"]/CR[\"p\"]\n",
    "CR[\"Sample_all\"]\n",
    "#test         \n",
    "#0      237338\n",
    "#1      215983\n",
    "#we have enough sample points in this question"
   ]
  },
  {
   "cell_type": "code",
   "execution_count": 60,
   "metadata": {},
   "outputs": [
    {
     "data": {
      "text/plain": [
       "Text(0.5, 1.0, 'Conversion Rate per Date')"
      ]
     },
     "execution_count": 60,
     "metadata": {},
     "output_type": "execute_result"
    },
    {
     "data": {
      "image/png": "[encoded data removed]",
      "text/plain": [
       "<Figure size 1008x432 with 2 Axes>"
      ]
     },
     "metadata": {
      "needs_background": "light"
     },
     "output_type": "display_data"
    },
    {
     "data": {
      "text/plain": [
       "<Figure size 1008x360 with 0 Axes>"
      ]
     },
     "metadata": {},
     "output_type": "display_data"
    }
   ],
   "source": [
    "# check the duration\n",
    "fig,ax = plt.subplots(nrows=1,ncols=2,figsize=(14,6))\n",
    "sns.countplot(x=\"date\",hue=\"test\",data=new_test,ax=ax[0])\n",
    "ax[0].set_title(\"Count Plot of Date\",fontsize=16)\n",
    "plt.figure(figsize=(14,5))\n",
    "sns.barplot(x=\"date\",y=\"conversion\",hue=\"test\",data=new_test,ax=ax[1])\n",
    "ax[1].set_title(\"Conversion Rate per Date\", fontsize=16)\n",
    "# The duration include high volumn and low volumn dates\n",
    "# It should be good. But it would be better to have a longer duration: maybe customers have learn effect"
   ]
  },
  {
   "cell_type": "code",
   "execution_count": 67,
   "metadata": {},
   "outputs": [
    {
     "data": {
      "text/plain": [
       "['country',\n",
       " 'browser',\n",
       " 'browser_language',\n",
       " 'age',\n",
       " 'sex',\n",
       " 'source',\n",
       " 'device',\n",
       " 'conversion']"
      ]
     },
     "execution_count": 67,
     "metadata": {},
     "output_type": "execute_result"
    }
   ],
   "source": [
    "# sanity check:\n",
    "columns = list(new_test.columns)\n",
    "remove=[\"user_id\",\"date\",\"ads_channel\",\"test\",\"_merge\"]\n",
    "final_list =list(set(columns).difference(set(remove)))\n",
    "final_list"
   ]
  },
  {
   "cell_type": "code",
   "execution_count": 70,
   "metadata": {},
   "outputs": [
    {
     "data": {
      "image/png": "[encoded data removed]",
      "text/plain": [
       "<Figure size 1008x432 with 2 Axes>"
      ]
     },
     "metadata": {
      "needs_background": "light"
     },
     "output_type": "display_data"
    },
    {
     "data": {
      "text/plain": [
       "<Figure size 1008x360 with 0 Axes>"
      ]
     },
     "metadata": {},
     "output_type": "display_data"
    },
    {
     "data": {
      "image/png": "[encoded data removed]",
      "text/plain": [
       "<Figure size 1008x432 with 2 Axes>"
      ]
     },
     "metadata": {
      "needs_background": "light"
     },
     "output_type": "display_data"
    },
    {
     "data": {
      "text/plain": [
       "<Figure size 1008x360 with 0 Axes>"
      ]
     },
     "metadata": {},
     "output_type": "display_data"
    },
    {
     "data": {
      "image/png": "[encoded data removed]",
      "text/plain": [
       "<Figure size 1008x432 with 2 Axes>"
      ]
     },
     "metadata": {
      "needs_background": "light"
     },
     "output_type": "display_data"
    },
    {
     "data": {
      "text/plain": [
       "<Figure size 1008x360 with 0 Axes>"
      ]
     },
     "metadata": {},
     "output_type": "display_data"
    },
    {
     "data": {
      "image/png": "[encoded data removed]",
      "text/plain": [
       "<Figure size 1008x432 with 2 Axes>"
      ]
     },
     "metadata": {
      "needs_background": "light"
     },
     "output_type": "display_data"
    },
    {
     "data": {
      "text/plain": [
       "<Figure size 1008x360 with 0 Axes>"
      ]
     },
     "metadata": {},
     "output_type": "display_data"
    },
    {
     "data": {
      "image/png": "[encoded data removed]",
      "text/plain": [
       "<Figure size 1008x432 with 2 Axes>"
      ]
     },
     "metadata": {
      "needs_background": "light"
     },
     "output_type": "display_data"
    },
    {
     "data": {
      "text/plain": [
       "<Figure size 1008x360 with 0 Axes>"
      ]
     },
     "metadata": {},
     "output_type": "display_data"
    },
    {
     "data": {
      "image/png": "[encoded data removed]",
      "text/plain": [
       "<Figure size 1008x432 with 2 Axes>"
      ]
     },
     "metadata": {
      "needs_background": "light"
     },
     "output_type": "display_data"
    },
    {
     "data": {
      "text/plain": [
       "<Figure size 1008x360 with 0 Axes>"
      ]
     },
     "metadata": {},
     "output_type": "display_data"
    },
    {
     "data": {
      "image/png": "[encoded data removed]",
      "text/plain": [
       "<Figure size 1008x432 with 2 Axes>"
      ]
     },
     "metadata": {
      "needs_background": "light"
     },
     "output_type": "display_data"
    },
    {
     "data": {
      "text/plain": [
       "<Figure size 1008x360 with 0 Axes>"
      ]
     },
     "metadata": {},
     "output_type": "display_data"
    }
   ],
   "source": [
    "for column in final_list:\n",
    "    if column != \"conversion\":\n",
    "        fig,ax = plt.subplots(nrows=1,ncols=2,figsize=(14,6))\n",
    "        sns.countplot(x=column,hue=\"test\",data=new_test,ax=ax[0])\n",
    "        ax[0].set_title(\"Count Plot of %s\" %column,fontsize=16)\n",
    "        plt.figure(figsize=(14,5))\n",
    "        sns.barplot(x=column,y=\"conversion\",hue=\"test\",data=new_test,ax=ax[1])\n",
    "        ax[1].set_title(\"Conversion Rate per %s\" %column, fontsize=16)"
   ]
  },
  {
   "cell_type": "code",
   "execution_count": 71,
   "metadata": {},
   "outputs": [
    {
     "data": {
      "image/png": "[encoded data removed]",
      "text/plain": [
       "<Figure size 1296x432 with 1 Axes>"
      ]
     },
     "metadata": {
      "needs_background": "light"
     },
     "output_type": "display_data"
    }
   ],
   "source": [
    "# According to the distribution plot, there are two countries we have extrem high test counts but \n",
    "# low conversion rate. This uneven distribution between test and control groups might be the reason\n",
    "fig,ax=plt.subplots(figsize=(18,6))\n",
    "sns.countplot(x=\"country\",hue=\"test\",data=new,ax=ax)\n",
    "ax.set_title(\"Countplot per Country\",fontsize=16)\n",
    "plt.show()"
   ]
  },
  {
   "cell_type": "code",
   "execution_count": 81,
   "metadata": {},
   "outputs": [
    {
     "data": {
      "text/html": [
       "<div>\n",
       "<style scoped>\n",
       "    .dataframe tbody tr th:only-of-type {\n",
       "        vertical-align: middle;\n",
       "    }\n",
       "\n",
       "    .dataframe tbody tr th {\n",
       "        vertical-align: top;\n",
       "    }\n",
       "\n",
       "    .dataframe thead th {\n",
       "        text-align: right;\n",
       "    }\n",
       "</style>\n",
       "<table border=\"1\" class=\"dataframe\">\n",
       "  <thead>\n",
       "    <tr style=\"text-align: right;\">\n",
       "      <th></th>\n",
       "      <th>conversion</th>\n",
       "    </tr>\n",
       "    <tr>\n",
       "      <th>test</th>\n",
       "      <th></th>\n",
       "    </tr>\n",
       "  </thead>\n",
       "  <tbody>\n",
       "    <tr>\n",
       "      <td>0</td>\n",
       "      <td>0.050186</td>\n",
       "    </tr>\n",
       "    <tr>\n",
       "      <td>1</td>\n",
       "      <td>0.050421</td>\n",
       "    </tr>\n",
       "  </tbody>\n",
       "</table>\n",
       "</div>"
      ],
      "text/plain": [
       "      conversion\n",
       "test            \n",
       "0       0.050186\n",
       "1       0.050421"
      ]
     },
     "execution_count": 81,
     "metadata": {},
     "output_type": "execute_result"
    }
   ],
   "source": [
    "# calculate the conversion rate after deleting Uruguay and Argentina\n",
    "new_test2 = new[~new[\"country\"].isin([\"Argentina\",\"Uruguay\",\"Spain\"])]\n",
    "two_group_new2 = new_test2[[\"conversion\",\"test\"]].groupby(\"test\").mean()\n",
    "two_group_new2\n",
    "# after the adjustment, the test group works better"
   ]
  },
  {
   "cell_type": "code",
   "execution_count": 82,
   "metadata": {},
   "outputs": [
    {
     "data": {
      "text/plain": [
       "Ks_2sampResult(statistic=0.00023482193535606655, pvalue=1.0)"
      ]
     },
     "execution_count": 82,
     "metadata": {},
     "output_type": "execute_result"
    }
   ],
   "source": [
    "scipy.stats.ks_2samp(new_test2[new_test2.test==0][\"conversion\"],new_test2[new_test2.test==1][\"conversion\"])\n",
    "# cannot reject null hypothesis, so they came from same group\n",
    "# new feature has no effect but there is no decrease for testing group"
   ]
  },
  {
   "cell_type": "code",
   "execution_count": 156,
   "metadata": {},
   "outputs": [
    {
     "name": "stdout",
     "output_type": "stream",
     "text": [
      "Country               Test Rate    Control Rate    P-Value\n",
      "-----------------------------------------------------------------\n",
      "Spain                       nan         0.07972        nan\n",
      "Mexico                  0.05119         0.04949   0.165544\n",
      "Venezuela               0.04898         0.05034   0.573702\n",
      "Bolivia                 0.04790         0.04937   0.718885\n",
      "Colombia                0.05057         0.05209   0.423719\n",
      "Uruguay                 0.01291         0.01205   0.879764\n",
      "El Salvador             0.04795         0.05355   0.248127\n",
      "Nicaragua               0.05418         0.05265   0.780400\n",
      "Peru                    0.05060         0.04991   0.771953\n",
      "Costa Rica              0.05474         0.05226   0.687876\n",
      "Chile                   0.05130         0.04811   0.302848\n",
      "Argentina               0.01373         0.01507   0.335147\n",
      "Ecuador                 0.04899         0.04915   0.961512\n",
      "Guatemala               0.04865         0.05064   0.572107\n",
      "Honduras                0.04754         0.05091   0.471463\n",
      "Paraguay                0.04923         0.04849   0.883697\n",
      "Panama                  0.04937         0.04680   0.705327\n"
     ]
    }
   ],
   "source": [
    "# conclusion: the problem is because the control and testing groups come from different distribution orginially\n",
    "# there are more people from Argentina and Uruguay in testing groups and it happens that both of them have very low\n",
    "# conversion rates. And it influences the final conversion rate.\n",
    "# design an algorithm that would return FALSE if the same problem is\n",
    "# happening in the future and TRUE if everything is good and the results can be trusted.\n",
    "countries = [name for name in new['country'].unique() if name is not np.nan]\n",
    "\n",
    "print('{0:15s} {1:>15s} {2:>15s} {3:>10s}'.format('Country', 'Test Rate', 'Control Rate', 'P-Value'))\n",
    "print('-' * 65)\n",
    "\n",
    "for country in countries:\n",
    "    test_val = new[(new['country'] == country) & (new['test'] == 1)]['conversion'].values\n",
    "    cont_val = new[(new['country'] == country) & (new['test'] == 0)]['conversion'].values\n",
    "    \n",
    "    test_mean = test_val.mean()\n",
    "    cont_mean = cont_val.mean()\n",
    "    p_val = ttest_ind(test_val, cont_val, equal_var=False).pvalue\n",
    "    \n",
    "    print('{0:15s} {1:15.5f} {2:15.5f} {3:10f}'.format(country, test_mean, cont_mean, p_val))\n"
   ]
  },
  {
   "cell_type": "code",
   "execution_count": 169,
   "metadata": {},
   "outputs": [],
   "source": [
    "def checkcountry(new):     \n",
    "    check1 = new[[\"test\",\"country\",\"user_id\"]].groupby([\"country\",\"test\"]).count()\n",
    "    countries = [name for name in new['country'].unique() if name is not np.nan]\n",
    "    for country in countries:\n",
    "        a = check1.loc[country]\n",
    "        b=int((a.iloc[0]-a.iloc[1])/a.iloc[0])\n",
    "        if abs(b) > 0.1:\n",
    "            print(\"there is an uneven group in country {0}\".format(country),\"and the deviation is {0}\".format(b))\n",
    "            return False\n",
    "            break\n",
    "    return True"
   ]
  },
  {
   "cell_type": "code",
   "execution_count": 170,
   "metadata": {},
   "outputs": [
    {
     "name": "stdout",
     "output_type": "stream",
     "text": [
      "there is an uneven group in country Uruguay and the deviation is -7\n"
     ]
    },
    {
     "data": {
      "text/plain": [
       "False"
      ]
     },
     "execution_count": 170,
     "metadata": {},
     "output_type": "execute_result"
    }
   ],
   "source": [
    "checkcountry(new_test)"
   ]
  },
  {
   "cell_type": "code",
   "execution_count": 164,
   "metadata": {},
   "outputs": [],
   "source": [
    "# based on above algorithm we could find out if there is an uneven distribution\n",
    "# once the algorithm found one uneven group we return false"
   ]
  },
  {
   "cell_type": "code",
   "execution_count": null,
   "metadata": {},
   "outputs": [],
   "source": []
  }
 ],
 "metadata": {
  "kernelspec": {
   "display_name": "Python 3",
   "language": "python",
   "name": "python3"
  },
  "language_info": {
   "codemirror_mode": {
    "name": "ipython",
    "version": 3
   },
   "file_extension": ".py",
   "mimetype": "text/x-python",
   "name": "python",
   "nbconvert_exporter": "python",
   "pygments_lexer": "ipython3",
   "version": "3.7.4"
  }
 },
 "nbformat": 4,
 "nbformat_minor": 2
}
